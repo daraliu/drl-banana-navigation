{
 "cells": [
  {
   "cell_type": "markdown",
   "metadata": {},
   "source": [
    "# Unity Banana Navigation\n",
    "\n",
    "---\n",
    "\n",
    "The [`banana_nav`](https://github.com/daraliu/drl-banana-navigation) package is inspired by the examples from [Udacity Deep Reinforcent Learning Nano Degree repository](https://github.com/udacity/deep-reinforcement-learning)."
   ]
  },
  {
   "cell_type": "code",
   "execution_count": 1,
   "metadata": {},
   "outputs": [
    {
     "name": "stderr",
     "output_type": "stream",
     "text": [
      "\n",
      "Bad key \"text.kerning_factor\" on line 4 in\n",
      "/home/hm/anaconda3/envs/drlnd/lib/python3.6/site-packages/matplotlib/mpl-data/stylelib/_classic_test_patch.mplstyle.\n",
      "You probably need to get an updated matplotlibrc file from\n",
      "https://github.com/matplotlib/matplotlib/blob/v3.1.3/matplotlibrc.template\n",
      "or from the matplotlib source distribution\n"
     ]
    }
   ],
   "source": [
    "%reload_ext autoreload\n",
    "%autoreload 2\n",
    "%matplotlib inline\n",
    "\n",
    "\n",
    "from unityagents import UnityEnvironment\n",
    "import pandas as pd\n",
    "\n",
    "from banana_nav import navigation\n",
    "from banana_nav import scores_util as su\n",
    "from banana_nav import path_util as pu\n",
    "\n",
    "import warnings\n",
    "warnings.filterwarnings('ignore')"
   ]
  },
  {
   "cell_type": "markdown",
   "metadata": {},
   "source": [
    "## Set training output dir path and training hyper parameters"
   ]
  },
  {
   "cell_type": "code",
   "execution_count": 2,
   "metadata": {},
   "outputs": [],
   "source": [
    "output_dir = \"../training_output/baseline\"\n",
    "agent_type = 'dqn'\n",
    "\n",
    "n_episodes = 2000\n",
    "mean_score_threshold = 13.0\n",
    "max_t = 1000\n",
    "eps_start = 1.0\n",
    "eps_end = 0.01\n",
    "eps_decay = 0.995\n",
    "\n",
    "agent_seed=0\n",
    "logging_freq = 5"
   ]
  },
  {
   "cell_type": "markdown",
   "metadata": {},
   "source": [
    "## Create Unity Banana Navigation Environment"
   ]
  },
  {
   "cell_type": "code",
   "execution_count": 3,
   "metadata": {},
   "outputs": [
    {
     "name": "stderr",
     "output_type": "stream",
     "text": [
      "INFO:unityagents:\n",
      "'Academy' started successfully!\n",
      "Unity Academy name: Academy\n",
      "        Number of Brains: 1\n",
      "        Number of External Brains : 1\n",
      "        Lesson number : 0\n",
      "        Reset Parameters :\n",
      "\t\t\n",
      "Unity brain name: BananaBrain\n",
      "        Number of Visual Observations (per agent): 0\n",
      "        Vector Observation space type: continuous\n",
      "        Vector Observation space size (per agent): 37\n",
      "        Number of stacked Vector Observation: 1\n",
      "        Vector Action space type: discrete\n",
      "        Vector Action space size (per agent): 4\n",
      "        Vector Action descriptions: , , , \n"
     ]
    }
   ],
   "source": [
    "env = UnityEnvironment(file_name=\"../Banana_Linux/Banana.x86_64\")"
   ]
  },
  {
   "cell_type": "markdown",
   "metadata": {},
   "source": [
    "## Train a baseline agent"
   ]
  },
  {
   "cell_type": "code",
   "execution_count": 4,
   "metadata": {
    "scrolled": true
   },
   "outputs": [
    {
     "name": "stderr",
     "output_type": "stream",
     "text": [
      "INFO:banana_nav.navigation:Ensuring output directory exists: ../training_output/baseline\n",
      "Episode 5\tAverage Score: -1.00\n",
      "Episode 10\tAverage Score: -0.60\n",
      "Episode 15\tAverage Score: -0.27\n",
      "Episode 20\tAverage Score: 0.00\n",
      "Episode 25\tAverage Score: -0.08\n",
      "Episode 30\tAverage Score: -0.03\n",
      "Episode 35\tAverage Score: -0.03\n",
      "Episode 40\tAverage Score: 0.05\n",
      "Episode 45\tAverage Score: 0.11\n",
      "Episode 50\tAverage Score: 0.24\n",
      "Episode 55\tAverage Score: 0.16\n",
      "Episode 60\tAverage Score: 0.20\n",
      "Episode 65\tAverage Score: 0.26\n",
      "Episode 70\tAverage Score: 0.29\n",
      "Episode 75\tAverage Score: 0.31\n",
      "Episode 80\tAverage Score: 0.29\n",
      "Episode 85\tAverage Score: 0.36\n",
      "Episode 90\tAverage Score: 0.33\n",
      "Episode 95\tAverage Score: 0.39\n",
      "Episode 100\tAverage Score: 0.37\n",
      "Episode 105\tAverage Score: 0.51\n",
      "Episode 110\tAverage Score: 0.58\n",
      "Episode 115\tAverage Score: 0.58\n",
      "Episode 120\tAverage Score: 0.60\n",
      "Episode 125\tAverage Score: 0.60\n",
      "Episode 130\tAverage Score: 0.65\n",
      "Episode 135\tAverage Score: 0.71\n",
      "Episode 140\tAverage Score: 0.67\n",
      "Episode 145\tAverage Score: 0.72\n",
      "Episode 150\tAverage Score: 0.70\n",
      "Episode 155\tAverage Score: 0.81\n",
      "Episode 160\tAverage Score: 0.75\n",
      "Episode 165\tAverage Score: 0.82\n",
      "Episode 170\tAverage Score: 0.85\n",
      "Episode 175\tAverage Score: 0.88\n",
      "Episode 180\tAverage Score: 0.92\n",
      "Episode 185\tAverage Score: 0.94\n",
      "Episode 190\tAverage Score: 1.07\n",
      "Episode 195\tAverage Score: 1.09\n",
      "Episode 200\tAverage Score: 1.22\n",
      "Episode 205\tAverage Score: 1.16\n",
      "Episode 210\tAverage Score: 1.36\n",
      "Episode 215\tAverage Score: 1.47\n",
      "Episode 220\tAverage Score: 1.55\n",
      "Episode 225\tAverage Score: 1.68\n",
      "Episode 230\tAverage Score: 1.80\n",
      "Episode 235\tAverage Score: 1.92\n",
      "Episode 240\tAverage Score: 2.04\n",
      "Episode 245\tAverage Score: 2.12\n",
      "Episode 250\tAverage Score: 2.24\n",
      "Episode 255\tAverage Score: 2.32\n",
      "Episode 260\tAverage Score: 2.57\n",
      "Episode 265\tAverage Score: 2.61\n",
      "Episode 270\tAverage Score: 2.80\n",
      "Episode 275\tAverage Score: 2.92\n",
      "Episode 280\tAverage Score: 3.04\n",
      "Episode 285\tAverage Score: 3.25\n",
      "Episode 290\tAverage Score: 3.31\n",
      "Episode 295\tAverage Score: 3.36\n",
      "Episode 300\tAverage Score: 3.51\n",
      "Episode 305\tAverage Score: 3.65\n",
      "Episode 310\tAverage Score: 3.57\n",
      "Episode 315\tAverage Score: 3.61\n",
      "Episode 320\tAverage Score: 3.63\n",
      "Episode 325\tAverage Score: 3.73\n",
      "Episode 330\tAverage Score: 3.80\n",
      "Episode 335\tAverage Score: 3.94\n",
      "Episode 340\tAverage Score: 4.07\n",
      "Episode 345\tAverage Score: 4.16\n",
      "Episode 350\tAverage Score: 4.34\n",
      "Episode 355\tAverage Score: 4.50\n",
      "Episode 360\tAverage Score: 4.50\n",
      "Episode 365\tAverage Score: 4.82\n",
      "Episode 370\tAverage Score: 4.94\n",
      "Episode 375\tAverage Score: 5.01\n",
      "Episode 380\tAverage Score: 4.95\n",
      "Episode 385\tAverage Score: 5.05\n",
      "Episode 390\tAverage Score: 5.17\n",
      "Episode 395\tAverage Score: 5.33\n",
      "Episode 400\tAverage Score: 5.38\n",
      "Episode 405\tAverage Score: 5.47\n",
      "Episode 410\tAverage Score: 5.47\n",
      "Episode 415\tAverage Score: 5.66\n",
      "Episode 420\tAverage Score: 5.73\n",
      "Episode 425\tAverage Score: 6.09\n",
      "Episode 430\tAverage Score: 6.10\n",
      "Episode 435\tAverage Score: 6.28\n",
      "Episode 440\tAverage Score: 6.60\n",
      "Episode 445\tAverage Score: 6.70\n",
      "Episode 450\tAverage Score: 6.80\n",
      "Episode 455\tAverage Score: 6.89\n",
      "Episode 460\tAverage Score: 6.92\n",
      "Episode 465\tAverage Score: 6.84\n",
      "Episode 470\tAverage Score: 6.87\n",
      "Episode 475\tAverage Score: 7.04\n",
      "Episode 480\tAverage Score: 7.39\n",
      "Episode 485\tAverage Score: 7.41\n",
      "Episode 490\tAverage Score: 7.61\n",
      "Episode 495\tAverage Score: 7.60\n",
      "Episode 500\tAverage Score: 7.64\n",
      "Episode 505\tAverage Score: 7.78\n",
      "Episode 510\tAverage Score: 8.02\n",
      "Episode 515\tAverage Score: 8.05\n",
      "Episode 520\tAverage Score: 8.30\n",
      "Episode 525\tAverage Score: 8.19\n",
      "Episode 530\tAverage Score: 8.35\n",
      "Episode 535\tAverage Score: 8.40\n",
      "Episode 540\tAverage Score: 8.18\n",
      "Episode 545\tAverage Score: 8.17\n",
      "Episode 550\tAverage Score: 8.07\n",
      "Episode 555\tAverage Score: 8.03\n",
      "Episode 560\tAverage Score: 8.25\n",
      "Episode 565\tAverage Score: 8.14\n",
      "Episode 570\tAverage Score: 8.07\n",
      "Episode 575\tAverage Score: 8.04\n",
      "Episode 580\tAverage Score: 8.16\n",
      "Episode 585\tAverage Score: 7.95\n",
      "Episode 590\tAverage Score: 7.88\n",
      "Episode 595\tAverage Score: 7.79\n",
      "Episode 600\tAverage Score: 7.87\n",
      "Episode 605\tAverage Score: 7.99\n",
      "Episode 610\tAverage Score: 7.89\n",
      "Episode 615\tAverage Score: 7.81\n",
      "Episode 620\tAverage Score: 7.67\n",
      "Episode 625\tAverage Score: 7.52\n",
      "Episode 630\tAverage Score: 7.43\n",
      "Episode 635\tAverage Score: 7.49\n",
      "Episode 640\tAverage Score: 7.67\n",
      "Episode 645\tAverage Score: 7.69\n",
      "Episode 650\tAverage Score: 7.84\n",
      "Episode 655\tAverage Score: 7.77\n",
      "Episode 660\tAverage Score: 7.84\n",
      "Episode 665\tAverage Score: 7.95\n",
      "Episode 670\tAverage Score: 8.10\n",
      "Episode 675\tAverage Score: 8.04\n",
      "Episode 680\tAverage Score: 7.96\n",
      "Episode 685\tAverage Score: 8.14\n",
      "Episode 690\tAverage Score: 8.23\n",
      "Episode 695\tAverage Score: 8.35\n",
      "Episode 700\tAverage Score: 8.36\n",
      "Episode 705\tAverage Score: 8.37\n",
      "Episode 710\tAverage Score: 8.48\n",
      "Episode 715\tAverage Score: 8.96\n",
      "Episode 720\tAverage Score: 9.22\n",
      "Episode 725\tAverage Score: 9.40\n",
      "Episode 730\tAverage Score: 9.62\n",
      "Episode 735\tAverage Score: 9.54\n",
      "Episode 740\tAverage Score: 9.47\n",
      "Episode 745\tAverage Score: 9.65\n",
      "Episode 750\tAverage Score: 9.53\n",
      "Episode 755\tAverage Score: 9.53\n",
      "Episode 760\tAverage Score: 9.57\n",
      "Episode 765\tAverage Score: 9.65\n",
      "Episode 770\tAverage Score: 9.73\n",
      "Episode 775\tAverage Score: 9.99\n",
      "Episode 780\tAverage Score: 9.81\n",
      "Episode 785\tAverage Score: 9.86\n",
      "Episode 790\tAverage Score: 9.81\n",
      "Episode 795\tAverage Score: 10.07\n",
      "Episode 800\tAverage Score: 10.13\n",
      "Episode 805\tAverage Score: 10.13\n",
      "Episode 810\tAverage Score: 10.35\n",
      "Episode 815\tAverage Score: 10.11\n",
      "Episode 820\tAverage Score: 10.06\n",
      "Episode 825\tAverage Score: 9.87\n",
      "Episode 830\tAverage Score: 10.04\n",
      "Episode 835\tAverage Score: 10.23\n",
      "Episode 840\tAverage Score: 10.29\n",
      "Episode 845\tAverage Score: 10.48\n",
      "Episode 850\tAverage Score: 10.66\n",
      "Episode 855\tAverage Score: 11.09\n",
      "Episode 860\tAverage Score: 11.05\n",
      "Episode 865\tAverage Score: 11.13\n",
      "Episode 870\tAverage Score: 11.19\n",
      "Episode 875\tAverage Score: 11.31\n",
      "Episode 880\tAverage Score: 11.44\n",
      "Episode 885\tAverage Score: 11.57\n",
      "Episode 890\tAverage Score: 11.55\n",
      "Episode 895\tAverage Score: 11.74\n",
      "Episode 900\tAverage Score: 11.80\n",
      "Episode 905\tAverage Score: 11.71\n",
      "Episode 910\tAverage Score: 11.74\n",
      "Episode 915\tAverage Score: 11.73\n",
      "Episode 920\tAverage Score: 11.74\n",
      "Episode 925\tAverage Score: 12.14\n",
      "Episode 930\tAverage Score: 11.84\n",
      "Episode 935\tAverage Score: 11.57\n",
      "Episode 940\tAverage Score: 11.45\n",
      "Episode 945\tAverage Score: 11.36\n",
      "Episode 950\tAverage Score: 11.47\n",
      "Episode 955\tAverage Score: 11.22\n",
      "Episode 960\tAverage Score: 11.42\n",
      "Episode 965\tAverage Score: 11.37\n",
      "Episode 970\tAverage Score: 11.63\n",
      "Episode 975\tAverage Score: 11.58\n",
      "Episode 980\tAverage Score: 11.83\n",
      "Episode 985\tAverage Score: 11.95\n",
      "Episode 990\tAverage Score: 11.99\n",
      "Episode 995\tAverage Score: 11.87\n",
      "Episode 1000\tAverage Score: 11.96\n",
      "Episode 1005\tAverage Score: 12.26\n",
      "Episode 1010\tAverage Score: 11.95\n",
      "Episode 1015\tAverage Score: 12.05\n",
      "Episode 1020\tAverage Score: 12.32\n",
      "Episode 1025\tAverage Score: 12.33\n",
      "Episode 1030\tAverage Score: 12.66\n",
      "Episode 1035\tAverage Score: 12.77\n",
      "Episode 1040\tAverage Score: 13.01\n",
      "INFO:banana_nav.navigation:\n",
      "Environment solved in 940 episodes!\tAverage Score: 13.01\n",
      "INFO:banana_nav.navigation:Saving network model weights to ../training_output/baseline/weights.pth\n",
      "INFO:banana_nav.navigation:Model weights saved successfully!\n",
      "INFO:banana_nav.navigation:Saving training scores to ../training_output/baseline/scores.csv\n",
      "INFO:banana_nav.navigation:Training scores saved successfully!\n",
      "INFO:banana_nav.navigation:Saving training metadata to ../training_output/baseline/metadata.json\n",
      "INFO:banana_nav.navigation:Training metadata saved successfully!\n"
     ]
    }
   ],
   "source": [
    "navigation.training(\n",
    "    env,\n",
    "    output_dir,\n",
    "    agent_type,\n",
    "    n_episodes,\n",
    "    mean_score_threshold,\n",
    "    max_t,\n",
    "    eps_start,\n",
    "    eps_end,\n",
    "    eps_decay,\n",
    "    agent_seed,\n",
    "    logging_freq)"
   ]
  },
  {
   "cell_type": "markdown",
   "metadata": {},
   "source": [
    "## Plot training score"
   ]
  },
  {
   "cell_type": "code",
   "execution_count": 23,
   "metadata": {},
   "outputs": [
    {
     "data": {
      "image/png": "[encoded data removed]",
      "text/plain": [
       "<Figure size 640x480 with 1 Axes>"
      ]
     },
     "metadata": {},
     "output_type": "display_data"
    },
    {
     "data": {
      "text/plain": [
       "<ggplot: (8794097017818)>"
      ]
     },
     "execution_count": 23,
     "metadata": {},
     "output_type": "execute_result"
    }
   ],
   "source": [
    "df_scores = su.read_scores(output_dir)\n",
    "p_scores = su.plot_scores(df_scores, \"baseline FC (64, 64) DQN agent\")\n",
    "p_scores"
   ]
  },
  {
   "cell_type": "code",
   "execution_count": 24,
   "metadata": {},
   "outputs": [],
   "source": [
    "p_scores.save(\"../img/baseline_fc_64_64_score.png\")"
   ]
  },
  {
   "cell_type": "markdown",
   "metadata": {},
   "source": [
    "## Run a demo of a Random Agent"
   ]
  },
  {
   "cell_type": "code",
   "execution_count": 28,
   "metadata": {},
   "outputs": [
    {
     "data": {
      "text/plain": [
       "1.0"
      ]
     },
     "execution_count": 28,
     "metadata": {},
     "output_type": "execute_result"
    }
   ],
   "source": [
    "navigation.demo(env)"
   ]
  },
  {
   "cell_type": "markdown",
   "metadata": {},
   "source": [
    "## Run a demo of the trained agent"
   ]
  },
  {
   "cell_type": "code",
   "execution_count": 4,
   "metadata": {},
   "outputs": [
    {
     "data": {
      "text/plain": [
       "15.0"
      ]
     },
     "execution_count": 4,
     "metadata": {},
     "output_type": "execute_result"
    }
   ],
   "source": [
    "navigation.demo(env, pu.mk_path_weights(output_dir))"
   ]
  },
  {
   "cell_type": "markdown",
   "metadata": {},
   "source": [
    "## Uncomment and run to close enviroment"
   ]
  },
  {
   "cell_type": "code",
   "execution_count": 5,
   "metadata": {},
   "outputs": [],
   "source": [
    "# env.close()"
   ]
  }
 ],
 "metadata": {
  "kernelspec": {
   "display_name": "Python 3",
   "language": "python",
   "name": "python3"
  },
  "language_info": {
   "codemirror_mode": {
    "name": "ipython",
    "version": 3
   },
   "file_extension": ".py",
   "mimetype": "text/x-python",
   "name": "python",
   "nbconvert_exporter": "python",
   "pygments_lexer": "ipython3",
   "version": "3.6.10"
  }
 },
 "nbformat": 4,
 "nbformat_minor": 2
}
